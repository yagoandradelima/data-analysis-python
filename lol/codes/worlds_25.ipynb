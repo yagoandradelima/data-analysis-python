{
 "cells": [
  {
   "cell_type": "code",
   "execution_count": null,
   "id": "e78d2b19",
   "metadata": {
    "vscode": {
     "languageId": "powershell"
    }
   },
   "outputs": [],
   "source": []
  }
 ],
 "metadata": {
  "language_info": {
   "name": "python"
  }
 },
 "nbformat": 4,
 "nbformat_minor": 5
}
