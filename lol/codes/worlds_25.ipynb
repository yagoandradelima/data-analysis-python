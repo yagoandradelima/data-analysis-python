{
 "cells": [
  {
   "cell_type": "code",
   "execution_count": 4,
   "id": "6f42e26a",
   "metadata": {},
   "outputs": [],
   "source": [
    "import numpy as np\n",
    "import pandas as pd\n",
    "import matplotlib.pyplot as plt"
   ]
  },
  {
   "cell_type": "code",
   "execution_count": 8,
   "id": "14e7be55",
   "metadata": {},
   "outputs": [
    {
     "name": "stderr",
     "output_type": "stream",
     "text": [
      "C:\\Users\\yandrade\\AppData\\Local\\Temp\\ipykernel_20860\\1634243045.py:1: DtypeWarning: Columns (2) have mixed types. Specify dtype option on import or set low_memory=False.\n",
      "  data = pd.read_csv(\"../data/2025_LoL_esports_match_data_from_OraclesElixir.csv\")\n"
     ]
    }
   ],
   "source": [
    "data = pd.read_csv(\"../data/2025_LoL_esports_match_data_from_OraclesElixir.csv\")"
   ]
  },
  {
   "cell_type": "code",
   "execution_count": 14,
   "id": "69635ac3",
   "metadata": {},
   "outputs": [
    {
     "data": {
      "text/plain": [
       "Index(['datacompleteness', 'url', 'league', 'year', 'split', 'playoffs',\n",
       "       'date', 'game', 'patch', 'participantid', 'side', 'position',\n",
       "       'playername', 'playerid', 'teamname', 'teamid', 'champion', 'ban1',\n",
       "       'ban2', 'ban3', 'ban4', 'ban5', 'pick1', 'pick2', 'pick3', 'pick4',\n",
       "       'pick5', 'gamelength', 'result'],\n",
       "      dtype='object')"
      ]
     },
     "execution_count": 14,
     "metadata": {},
     "output_type": "execute_result"
    }
   ],
   "source": [
    "data.columns[1:30]"
   ]
  },
  {
   "cell_type": "code",
   "execution_count": 13,
   "id": "f7a7949c",
   "metadata": {},
   "outputs": [
    {
     "data": {
      "text/plain": [
       "array(['LFL2', 'LPL', 'LCKC', 'LVP SL', 'LCK', 'NLC', 'LCP', 'LEC', 'HLL',\n",
       "       'PRM', 'LFL', 'LIT', 'TCL', 'HW', 'LJL', 'LTA S', 'LTA N', 'RL',\n",
       "       'NEXO', 'CD', 'EBL', 'PCS', 'ROL', 'LPLOL', 'AL', 'LTA', 'VCS',\n",
       "       'FST', 'EM', 'LRS', 'LRN', 'NACL', 'LAS', 'HC', 'PRMP', 'HM', 'CT',\n",
       "       'Asia Master', 'MSI', 'EWC', 'WLDs', 'ASI'], dtype=object)"
      ]
     },
     "execution_count": 13,
     "metadata": {},
     "output_type": "execute_result"
    }
   ],
   "source": [
    "data[\"league\"].unique()"
   ]
  },
  {
   "cell_type": "code",
   "execution_count": null,
   "id": "fe0cc165",
   "metadata": {},
   "outputs": [],
   "source": []
  }
 ],
 "metadata": {
  "kernelspec": {
   "display_name": "base",
   "language": "python",
   "name": "python3"
  },
  "language_info": {
   "codemirror_mode": {
    "name": "ipython",
    "version": 3
   },
   "file_extension": ".py",
   "mimetype": "text/x-python",
   "name": "python",
   "nbconvert_exporter": "python",
   "pygments_lexer": "ipython3",
   "version": "3.13.9"
  }
 },
 "nbformat": 4,
 "nbformat_minor": 5
}
